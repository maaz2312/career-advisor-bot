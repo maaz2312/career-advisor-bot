{
 "cells": [
  {
   "cell_type": "code",
   "execution_count": 3,
   "id": "f1e14f05-66e3-48a6-9a89-2d31162fff84",
   "metadata": {},
   "outputs": [
    {
     "name": "stdout",
     "output_type": "stream",
     "text": [
      "👋 Welcome to the AI Career Advisor Bot!\n"
     ]
    },
    {
     "name": "stdin",
     "output_type": "stream",
     "text": [
      "What's your name?  Roman\n",
      "What degree have you completed or are pursuing?  BS SE\n",
      "What's your CGPA?  3.6\n",
      "What tech areas do you enjoy most? (e.g., AI, Web, Data, Python)  Data, Python, Web\n"
     ]
    },
    {
     "name": "stdout",
     "output_type": "stream",
     "text": [
      "\n",
      "Thanks, Roman! Let's find some good options for you...\n",
      "\n"
     ]
    }
   ],
   "source": [
    "print(\"👋 Welcome to the AI Career Advisor Bot!\")\n",
    "name = input(\"What's your name? \")\n",
    "degree = input(\"What degree have you completed or are pursuing? \")\n",
    "cgpa = input(\"What's your CGPA? \")\n",
    "interest = input(\"What tech areas do you enjoy most? (e.g., AI, Web, Data, Python) \")\n",
    "\n",
    "print(\"\\nThanks, \" + name + \"! Let's find some good options for you...\\n\")\n"
   ]
  },
  {
   "cell_type": "code",
   "execution_count": 4,
   "id": "35a439de-23ff-430c-b20d-470704411a73",
   "metadata": {},
   "outputs": [
    {
     "name": "stdout",
     "output_type": "stream",
     "text": [
      "🤖 AI Career Advisor is analyzing your profile...\n",
      "\n",
      "\n",
      "Awesome, Roman! With your CGPA and interest in Data, Python, Web, here are some top picks:\n",
      "\n",
      "1. Data, python, web Developer\n",
      "2. Data Analyst (Python, Pandas)\n",
      "3. AI/ML Internships\n",
      "\n",
      "🚀 You're in a good spot — build a portfolio and start applying.\n",
      "\n"
     ]
    }
   ],
   "source": [
    "# 💡 Logic for role-based \"career advisor\" response\n",
    "\n",
    "print(\"🤖 AI Career Advisor is analyzing your profile...\\n\")\n",
    "\n",
    "# Simple logic for matching careers\n",
    "if float(cgpa) < 2.8:\n",
    "    advice = f\"\"\"\n",
    "{name}, your CGPA is on the lower side — but don't worry! Many successful people started the same way.\n",
    "\n",
    "📌 Based on your interest in {interest}, here are 3 career paths you can still pursue:\n",
    "1. Junior {interest} Internships or Freelancing\n",
    "2. Prompt Engineering (AI without heavy coding)\n",
    "3. QA/Testing roles (less coding, great entry point)\n",
    "\n",
    "💡 Focus on building projects + showcasing skills on GitHub & LinkedIn.\n",
    "\"\"\"\n",
    "else:\n",
    "    advice = f\"\"\"\n",
    "Awesome, {name}! With your CGPA and interest in {interest}, here are some top picks:\n",
    "\n",
    "1. {interest.capitalize()} Developer\n",
    "2. Data Analyst (Python, Pandas)\n",
    "3. AI/ML Internships\n",
    "\n",
    "🚀 You're in a good spot — build a portfolio and start applying.\n",
    "\"\"\"\n",
    "\n",
    "# Show the advice\n",
    "print(advice)\n"
   ]
  },
  {
   "cell_type": "code",
   "execution_count": 7,
   "id": "84d8260f-b451-4c27-a749-9168739af617",
   "metadata": {},
   "outputs": [
    {
     "name": "stdout",
     "output_type": "stream",
     "text": [
      "\n",
      "What would you like next?\n",
      "1️⃣  Roadmap for my career\n",
      "2️⃣  Free learning resources\n",
      "3️⃣  Internship/job platforms\n"
     ]
    },
    {
     "name": "stdin",
     "output_type": "stream",
     "text": [
      "Enter 1, 2, or 3:  2\n"
     ]
    },
    {
     "name": "stdout",
     "output_type": "stream",
     "text": [
      "\n",
      "📚 Free Resources for Data, Python, Web:\n",
      "\n",
      "- YouTube: CodeWithHarry / TechWithTim / Krish Naik\n",
      "- FreeCodeCamp.org\n",
      "- Coursera: IBM or Google beginner certs\n",
      "- Kaggle (for hands-on datasets)\n",
      "- GitHub Repos with Data, Python, Web projects\n",
      "\n"
     ]
    }
   ],
   "source": [
    "# Ask user what help they want next\n",
    "print(\"\\nWhat would you like next?\")\n",
    "print(\"1️⃣  Roadmap for my career\")\n",
    "print(\"2️⃣  Free learning resources\")\n",
    "print(\"3️⃣  Internship/job platforms\")\n",
    "choice = input(\"Enter 1, 2, or 3: \")\n",
    "\n",
    "# Suggest resources based on choice\n",
    "if choice == \"1\":\n",
    "    print(f\"\"\"\n",
    "🚀 Roadmap for {interest}:\n",
    "\n",
    "- Learn fundamentals (basic Python, logic building)\n",
    "- Intermediate: Explore {interest} tools (e.g., libraries like Pandas, OpenCV, etc.)\n",
    "- Build 2–3 mini projects & push to GitHub\n",
    "- Make a LinkedIn profile + describe each project\n",
    "- Start applying for internships or freelancing gigs!\n",
    "\"\"\")\n",
    "\n",
    "elif choice == \"2\":\n",
    "    print(f\"\"\"\n",
    "📚 Free Resources for {interest}:\n",
    "\n",
    "- YouTube: CodeWithHarry / TechWithTim / Krish Naik\n",
    "- FreeCodeCamp.org\n",
    "- Coursera: IBM or Google beginner certs\n",
    "- Kaggle (for hands-on datasets)\n",
    "- GitHub Repos with {interest} projects\n",
    "\"\"\")\n",
    "\n",
    "elif choice == \"3\":\n",
    "    print(\"\"\"\n",
    "💼 Platforms to find internships:\n",
    "\n",
    "- InternsInPakistan.com\n",
    "- Rozee.pk\n",
    "- LinkedIn Jobs\n",
    "- Indeed.com.pk\n",
    "- Upwork/Fiverr for freelance gigs\n",
    "\"\"\")\n",
    "\n",
    "else:\n",
    "    print(\"❌ Invalid choice. Please restart the bot.\")\n"
   ]
  },
  {
   "cell_type": "code",
   "execution_count": 8,
   "id": "fc495b5a-8b0a-4f6a-8ba6-27f4b0c4739b",
   "metadata": {},
   "outputs": [
    {
     "name": "stdout",
     "output_type": "stream",
     "text": [
      "\n",
      "✨ Thanks for chatting with me, Roman!\n",
      "\n",
      "Remember: Your CGPA does **not** define your future.\n",
      "\n",
      "With consistent effort in Data, Python, Web, you can still become a skilled professional 💼\n",
      "\n",
      "🚀 Keep learning, keep building — and don’t forget to:\n",
      "- Push projects to GitHub\n",
      "- Stay active on LinkedIn\n",
      "- Apply boldly to internships (you miss 100% of shots you don't take 😉)\n",
      "\n",
      "Good luck champ!\n",
      "– Your AI Career Advisor 🤖\n",
      "\n"
     ]
    }
   ],
   "source": [
    "print(f\"\"\"\n",
    "✨ Thanks for chatting with me, {name}!\n",
    "\n",
    "Remember: Your CGPA does **not** define your future.\n",
    "\n",
    "With consistent effort in {interest}, you can still become a skilled professional 💼\n",
    "\n",
    "🚀 Keep learning, keep building — and don’t forget to:\n",
    "- Push projects to GitHub\n",
    "- Stay active on LinkedIn\n",
    "- Apply boldly to internships (you miss 100% of shots you don't take 😉)\n",
    "\n",
    "Good luck champ!\n",
    "– Your AI Career Advisor 🤖\n",
    "\"\"\")\n"
   ]
  },
  {
   "cell_type": "code",
   "execution_count": null,
   "id": "6f2b0129-2089-441e-a958-8491e82bd8b4",
   "metadata": {},
   "outputs": [],
   "source": []
  }
 ],
 "metadata": {
  "kernelspec": {
   "display_name": "Python 3 (ipykernel)",
   "language": "python",
   "name": "python3"
  },
  "language_info": {
   "codemirror_mode": {
    "name": "ipython",
    "version": 3
   },
   "file_extension": ".py",
   "mimetype": "text/x-python",
   "name": "python",
   "nbconvert_exporter": "python",
   "pygments_lexer": "ipython3",
   "version": "3.11.7"
  }
 },
 "nbformat": 4,
 "nbformat_minor": 5
}
